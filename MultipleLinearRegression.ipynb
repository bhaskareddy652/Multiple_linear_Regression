{
 "cells": [
  {
   "cell_type": "code",
   "execution_count": 5,
   "id": "f9f97620-5cfd-4f89-9f1f-4d9dcd9730ae",
   "metadata": {},
   "outputs": [
    {
     "data": {
      "text/html": [
       "<div>\n",
       "<style scoped>\n",
       "    .dataframe tbody tr th:only-of-type {\n",
       "        vertical-align: middle;\n",
       "    }\n",
       "\n",
       "    .dataframe tbody tr th {\n",
       "        vertical-align: top;\n",
       "    }\n",
       "\n",
       "    .dataframe thead th {\n",
       "        text-align: right;\n",
       "    }\n",
       "</style>\n",
       "<table border=\"1\" class=\"dataframe\">\n",
       "  <thead>\n",
       "    <tr style=\"text-align: right;\">\n",
       "      <th></th>\n",
       "      <th>Price</th>\n",
       "      <th>Age_08_04</th>\n",
       "      <th>KM</th>\n",
       "      <th>Fuel_Type</th>\n",
       "      <th>HP</th>\n",
       "      <th>Automatic</th>\n",
       "      <th>cc</th>\n",
       "      <th>Doors</th>\n",
       "      <th>Cylinders</th>\n",
       "      <th>Gears</th>\n",
       "      <th>Weight</th>\n",
       "    </tr>\n",
       "  </thead>\n",
       "  <tbody>\n",
       "    <tr>\n",
       "      <th>0</th>\n",
       "      <td>13500</td>\n",
       "      <td>23</td>\n",
       "      <td>46986</td>\n",
       "      <td>Diesel</td>\n",
       "      <td>90</td>\n",
       "      <td>0</td>\n",
       "      <td>2000</td>\n",
       "      <td>3</td>\n",
       "      <td>4</td>\n",
       "      <td>5</td>\n",
       "      <td>1165</td>\n",
       "    </tr>\n",
       "    <tr>\n",
       "      <th>1</th>\n",
       "      <td>13750</td>\n",
       "      <td>23</td>\n",
       "      <td>72937</td>\n",
       "      <td>Diesel</td>\n",
       "      <td>90</td>\n",
       "      <td>0</td>\n",
       "      <td>2000</td>\n",
       "      <td>3</td>\n",
       "      <td>4</td>\n",
       "      <td>5</td>\n",
       "      <td>1165</td>\n",
       "    </tr>\n",
       "    <tr>\n",
       "      <th>2</th>\n",
       "      <td>13950</td>\n",
       "      <td>24</td>\n",
       "      <td>41711</td>\n",
       "      <td>Diesel</td>\n",
       "      <td>90</td>\n",
       "      <td>0</td>\n",
       "      <td>2000</td>\n",
       "      <td>3</td>\n",
       "      <td>4</td>\n",
       "      <td>5</td>\n",
       "      <td>1165</td>\n",
       "    </tr>\n",
       "    <tr>\n",
       "      <th>3</th>\n",
       "      <td>14950</td>\n",
       "      <td>26</td>\n",
       "      <td>48000</td>\n",
       "      <td>Diesel</td>\n",
       "      <td>90</td>\n",
       "      <td>0</td>\n",
       "      <td>2000</td>\n",
       "      <td>3</td>\n",
       "      <td>4</td>\n",
       "      <td>5</td>\n",
       "      <td>1165</td>\n",
       "    </tr>\n",
       "    <tr>\n",
       "      <th>4</th>\n",
       "      <td>13750</td>\n",
       "      <td>30</td>\n",
       "      <td>38500</td>\n",
       "      <td>Diesel</td>\n",
       "      <td>90</td>\n",
       "      <td>0</td>\n",
       "      <td>2000</td>\n",
       "      <td>3</td>\n",
       "      <td>4</td>\n",
       "      <td>5</td>\n",
       "      <td>1170</td>\n",
       "    </tr>\n",
       "    <tr>\n",
       "      <th>...</th>\n",
       "      <td>...</td>\n",
       "      <td>...</td>\n",
       "      <td>...</td>\n",
       "      <td>...</td>\n",
       "      <td>...</td>\n",
       "      <td>...</td>\n",
       "      <td>...</td>\n",
       "      <td>...</td>\n",
       "      <td>...</td>\n",
       "      <td>...</td>\n",
       "      <td>...</td>\n",
       "    </tr>\n",
       "    <tr>\n",
       "      <th>1431</th>\n",
       "      <td>7500</td>\n",
       "      <td>69</td>\n",
       "      <td>20544</td>\n",
       "      <td>Petrol</td>\n",
       "      <td>86</td>\n",
       "      <td>0</td>\n",
       "      <td>1300</td>\n",
       "      <td>3</td>\n",
       "      <td>4</td>\n",
       "      <td>5</td>\n",
       "      <td>1025</td>\n",
       "    </tr>\n",
       "    <tr>\n",
       "      <th>1432</th>\n",
       "      <td>10845</td>\n",
       "      <td>72</td>\n",
       "      <td>19000</td>\n",
       "      <td>Petrol</td>\n",
       "      <td>86</td>\n",
       "      <td>0</td>\n",
       "      <td>1300</td>\n",
       "      <td>3</td>\n",
       "      <td>4</td>\n",
       "      <td>5</td>\n",
       "      <td>1015</td>\n",
       "    </tr>\n",
       "    <tr>\n",
       "      <th>1433</th>\n",
       "      <td>8500</td>\n",
       "      <td>71</td>\n",
       "      <td>17016</td>\n",
       "      <td>Petrol</td>\n",
       "      <td>86</td>\n",
       "      <td>0</td>\n",
       "      <td>1300</td>\n",
       "      <td>3</td>\n",
       "      <td>4</td>\n",
       "      <td>5</td>\n",
       "      <td>1015</td>\n",
       "    </tr>\n",
       "    <tr>\n",
       "      <th>1434</th>\n",
       "      <td>7250</td>\n",
       "      <td>70</td>\n",
       "      <td>16916</td>\n",
       "      <td>Petrol</td>\n",
       "      <td>86</td>\n",
       "      <td>0</td>\n",
       "      <td>1300</td>\n",
       "      <td>3</td>\n",
       "      <td>4</td>\n",
       "      <td>5</td>\n",
       "      <td>1015</td>\n",
       "    </tr>\n",
       "    <tr>\n",
       "      <th>1435</th>\n",
       "      <td>6950</td>\n",
       "      <td>76</td>\n",
       "      <td>1</td>\n",
       "      <td>Petrol</td>\n",
       "      <td>110</td>\n",
       "      <td>0</td>\n",
       "      <td>1600</td>\n",
       "      <td>5</td>\n",
       "      <td>4</td>\n",
       "      <td>5</td>\n",
       "      <td>1114</td>\n",
       "    </tr>\n",
       "  </tbody>\n",
       "</table>\n",
       "<p>1436 rows × 11 columns</p>\n",
       "</div>"
      ],
      "text/plain": [
       "      Price  Age_08_04     KM Fuel_Type   HP  Automatic    cc  Doors  \\\n",
       "0     13500         23  46986    Diesel   90          0  2000      3   \n",
       "1     13750         23  72937    Diesel   90          0  2000      3   \n",
       "2     13950         24  41711    Diesel   90          0  2000      3   \n",
       "3     14950         26  48000    Diesel   90          0  2000      3   \n",
       "4     13750         30  38500    Diesel   90          0  2000      3   \n",
       "...     ...        ...    ...       ...  ...        ...   ...    ...   \n",
       "1431   7500         69  20544    Petrol   86          0  1300      3   \n",
       "1432  10845         72  19000    Petrol   86          0  1300      3   \n",
       "1433   8500         71  17016    Petrol   86          0  1300      3   \n",
       "1434   7250         70  16916    Petrol   86          0  1300      3   \n",
       "1435   6950         76      1    Petrol  110          0  1600      5   \n",
       "\n",
       "      Cylinders  Gears  Weight  \n",
       "0             4      5    1165  \n",
       "1             4      5    1165  \n",
       "2             4      5    1165  \n",
       "3             4      5    1165  \n",
       "4             4      5    1170  \n",
       "...         ...    ...     ...  \n",
       "1431          4      5    1025  \n",
       "1432          4      5    1015  \n",
       "1433          4      5    1015  \n",
       "1434          4      5    1015  \n",
       "1435          4      5    1114  \n",
       "\n",
       "[1436 rows x 11 columns]"
      ]
     },
     "execution_count": 5,
     "metadata": {},
     "output_type": "execute_result"
    }
   ],
   "source": [
    "import pandas as pd\n",
    "import numpy as np\n",
    "import matplotlib.pyplot as plt\n",
    "from sklearn.model_selection import train_test_split\n",
    "from sklearn.linear_model import LinearRegression, Ridge, Lasso\n",
    "from sklearn.metrics import mean_squared_error, r2_score\n",
    "import statsmodels.formula.api as smf\n",
    "df = pd.read_csv(\"ToyotaCorolla - MLR.csv\")\n",
    "df"
   ]
  },
  {
   "cell_type": "code",
   "execution_count": 7,
   "id": "06071a9b-9bf7-4ebb-8885-21743b6fafe6",
   "metadata": {},
   "outputs": [],
   "source": [
    "# Renameing columns\n",
    "df = df.rename(columns={'Age_08_04': 'Age', 'cc': 'CC'})\n",
    "# Creating dummy variables for 'Fuel_Type'\n",
    "df_dummies = pd.get_dummies(df, columns=['Fuel_Type'], drop_first=True)\n",
    "# Dropping specified columns\n",
    "df_dummies.drop(columns=['Doors', 'Gears', 'Cylinders', 'Automatic', 'Fuel_Type_Diesel', 'Fuel_Type_Petrol'], inplace=True)\n",
    "X = df_dummies[[\"Age\", \"KM\", \"HP\", \"CC\", \"Weight\"]]\n",
    "Y = df_dummies[\"Price\"]"
   ]
  },
  {
   "cell_type": "code",
   "execution_count": 3,
   "id": "04c18831-a747-436a-8602-4b1dbd9e87b8",
   "metadata": {},
   "outputs": [
    {
     "name": "stdout",
     "output_type": "stream",
     "text": [
      "Linear Regression Mean Squared Error: 1946945.386\n",
      "Linear Regression Root Mean Squared Error: 1395.33\n",
      "Linear Regression R-squared: 0.86\n",
      "                            OLS Regression Results                            \n",
      "==============================================================================\n",
      "Dep. Variable:                  Price   R-squared:                       0.862\n",
      "Model:                            OLS   Adj. R-squared:                  0.861\n",
      "Method:                 Least Squares   F-statistic:                     1785.\n",
      "Date:                Wed, 18 Sep 2024   Prob (F-statistic):               0.00\n",
      "Time:                        08:58:07   Log-Likelihood:                -12385.\n",
      "No. Observations:                1436   AIC:                         2.478e+04\n",
      "Df Residuals:                    1430   BIC:                         2.481e+04\n",
      "Df Model:                           5                                         \n",
      "Covariance Type:            nonrobust                                         \n",
      "==============================================================================\n",
      "                 coef    std err          t      P>|t|      [0.025      0.975]\n",
      "------------------------------------------------------------------------------\n",
      "Intercept  -4154.8553    946.732     -4.389      0.000   -6011.988   -2297.723\n",
      "Age         -122.4166      2.623    -46.664      0.000    -127.563    -117.271\n",
      "KM            -0.0195      0.001    -16.075      0.000      -0.022      -0.017\n",
      "HP            30.3340      2.542     11.931      0.000      25.347      35.321\n",
      "CC            -0.0889      0.090     -0.989      0.323      -0.265       0.087\n",
      "Weight        18.7732      0.839     22.373      0.000      17.127      20.419\n",
      "==============================================================================\n",
      "Omnibus:                      203.603   Durbin-Watson:                   1.573\n",
      "Prob(Omnibus):                  0.000   Jarque-Bera (JB):             1580.991\n",
      "Skew:                          -0.403   Prob(JB):                         0.00\n",
      "Kurtosis:                       8.077   Cond. No.                     2.08e+06\n",
      "==============================================================================\n",
      "\n",
      "Notes:\n",
      "[1] Standard Errors assume that the covariance matrix of the errors is correctly specified.\n",
      "[2] The condition number is large, 2.08e+06. This might indicate that there are\n",
      "strong multicollinearity or other numerical problems.\n"
     ]
    }
   ],
   "source": [
    "X_train, X_test, Y_train, Y_test = train_test_split(X, Y, test_size=0.3, random_state=42)\n",
    "LR = LinearRegression()\n",
    "LR.fit(X_train, Y_train)\n",
    "ypred = LR.predict(X_test)\n",
    "#Linear Regression\n",
    "mse = mean_squared_error(Y_test, ypred)\n",
    "print(\"Linear Regression Mean Squared Error:\", mse.round(3))\n",
    "rmse = np.sqrt(mse)\n",
    "print(\"Linear Regression Root Mean Squared Error:\", rmse.round(3))\n",
    "r2 = r2_score(Y_test, ypred)\n",
    "print(\"Linear Regression R-squared:\", r2.round(2))\n",
    "# Statsmodels OLS Models\n",
    "model = smf.ols('Price ~ Age + KM + HP + CC + Weight', data=df_dummies).fit()\n",
    "print(model.summary())"
   ]
  },
  {
   "cell_type": "code",
   "execution_count": 5,
   "id": "b9552154-db91-4eaf-8bec-0be51f47e313",
   "metadata": {},
   "outputs": [
    {
     "name": "stdout",
     "output_type": "stream",
     "text": [
      "                            OLS Regression Results                            \n",
      "==============================================================================\n",
      "Dep. Variable:                  Price   R-squared:                       0.801\n",
      "Model:                            OLS   Adj. R-squared:                  0.801\n",
      "Method:                 Least Squares   F-statistic:                     2880.\n",
      "Date:                Wed, 18 Sep 2024   Prob (F-statistic):               0.00\n",
      "Time:                        08:58:11   Log-Likelihood:                -12648.\n",
      "No. Observations:                1436   AIC:                         2.530e+04\n",
      "Df Residuals:                    1433   BIC:                         2.532e+04\n",
      "Df Model:                           2                                         \n",
      "Covariance Type:            nonrobust                                         \n",
      "==============================================================================\n",
      "                 coef    std err          t      P>|t|      [0.025      0.975]\n",
      "------------------------------------------------------------------------------\n",
      "Intercept   1.551e+04    341.793     45.367      0.000    1.48e+04    1.62e+04\n",
      "Age         -165.3701      2.328    -71.038      0.000    -169.937    -160.804\n",
      "HP            44.1027      2.890     15.259      0.000      38.433      49.772\n",
      "==============================================================================\n",
      "Omnibus:                      361.527   Durbin-Watson:                   1.335\n",
      "Prob(Omnibus):                  0.000   Jarque-Bera (JB):             2605.922\n",
      "Skew:                           0.975   Prob(JB):                         0.00\n",
      "Kurtosis:                       9.305   Cond. No.                         934.\n",
      "==============================================================================\n",
      "\n",
      "Notes:\n",
      "[1] Standard Errors assume that the covariance matrix of the errors is correctly specified.\n",
      "R-squared: 0.8\n",
      "VIF VALUE: 1.0251\n"
     ]
    }
   ],
   "source": [
    "#First Model\n",
    "model = smf.ols('Price ~ Age + HP', data=df_dummies).fit()\n",
    "print(model.summary())\n",
    "print(\"R-squared:\", model.rsquared.round(2))\n",
    "model_vif = smf.ols('Age ~ HP', data=df_dummies).fit()\n",
    "r2_vif = model_vif.rsquared\n",
    "VIF = 1 / (1 - r2_vif)\n",
    "print(\"VIF VALUE:\", VIF.round(4))"
   ]
  },
  {
   "cell_type": "code",
   "execution_count": 4,
   "id": "54e962e7-41c5-4b78-8e1a-bc6306e194b2",
   "metadata": {},
   "outputs": [
    {
     "name": "stdout",
     "output_type": "stream",
     "text": [
      "                            OLS Regression Results                            \n",
      "==============================================================================\n",
      "Dep. Variable:                  Price   R-squared:                       0.790\n",
      "Model:                            OLS   Adj. R-squared:                  0.790\n",
      "Method:                 Least Squares   F-statistic:                     2695.\n",
      "Date:                Mon, 16 Sep 2024   Prob (F-statistic):               0.00\n",
      "Time:                        22:37:33   Log-Likelihood:                -12686.\n",
      "No. Observations:                1436   AIC:                         2.538e+04\n",
      "Df Residuals:                    1433   BIC:                         2.539e+04\n",
      "Df Model:                           2                                         \n",
      "Covariance Type:            nonrobust                                         \n",
      "==============================================================================\n",
      "                 coef    std err          t      P>|t|      [0.025      0.975]\n",
      "------------------------------------------------------------------------------\n",
      "Intercept   2.048e+04    140.047    146.259      0.000    2.02e+04    2.08e+04\n",
      "Age         -154.1492      2.736    -56.334      0.000    -159.517    -148.782\n",
      "KM            -0.0165      0.001    -12.130      0.000      -0.019      -0.014\n",
      "==============================================================================\n",
      "Omnibus:                      448.686   Durbin-Watson:                   1.291\n",
      "Prob(Omnibus):                  0.000   Jarque-Bera (JB):             3322.042\n",
      "Skew:                           1.250   Prob(JB):                         0.00\n",
      "Kurtosis:                      10.019   Cond. No.                     2.49e+05\n",
      "==============================================================================\n",
      "\n",
      "Notes:\n",
      "[1] Standard Errors assume that the covariance matrix of the errors is correctly specified.\n",
      "[2] The condition number is large, 2.49e+05. This might indicate that there are\n",
      "strong multicollinearity or other numerical problems.\n",
      "R-squared: 0.79\n",
      "VIF VALUE: 1.3436\n"
     ]
    }
   ],
   "source": [
    "#Second Model\n",
    "model = smf.ols('Price ~Age+KM', data=df_dummies).fit()\n",
    "print(model.summary())\n",
    "print(\"R-squared:\", model.rsquared.round(2))\n",
    "model_vif = smf.ols('Age ~ KM ', data=df_dummies).fit()\n",
    "r2_vif = model_vif.rsquared\n",
    "VIF = 1 / (1 - r2_vif)\n",
    "print(\"VIF VALUE:\", VIF.round(4))"
   ]
  },
  {
   "cell_type": "code",
   "execution_count": 5,
   "id": "55a8403c-66eb-463d-a68a-cf31297fcd1a",
   "metadata": {},
   "outputs": [
    {
     "name": "stdout",
     "output_type": "stream",
     "text": [
      "                            OLS Regression Results                            \n",
      "==============================================================================\n",
      "Dep. Variable:                  Price   R-squared:                       0.770\n",
      "Model:                            OLS   Adj. R-squared:                  0.770\n",
      "Method:                 Least Squares   F-statistic:                     2400.\n",
      "Date:                Mon, 16 Sep 2024   Prob (F-statistic):               0.00\n",
      "Time:                        22:37:33   Log-Likelihood:                -12751.\n",
      "No. Observations:                1436   AIC:                         2.551e+04\n",
      "Df Residuals:                    1433   BIC:                         2.552e+04\n",
      "Df Model:                           2                                         \n",
      "Covariance Type:            nonrobust                                         \n",
      "==============================================================================\n",
      "                 coef    std err          t      P>|t|      [0.025      0.975]\n",
      "------------------------------------------------------------------------------\n",
      "Intercept    1.97e+04    235.564     83.631      0.000    1.92e+04    2.02e+04\n",
      "Age         -170.1532      2.482    -68.553      0.000    -175.022    -165.284\n",
      "CC             0.3487      0.109      3.206      0.001       0.135       0.562\n",
      "==============================================================================\n",
      "Omnibus:                      345.414   Durbin-Watson:                   1.203\n",
      "Prob(Omnibus):                  0.000   Jarque-Bera (JB):             2707.516\n",
      "Skew:                           0.897   Prob(JB):                         0.00\n",
      "Kurtosis:                       9.483   Cond. No.                     8.38e+03\n",
      "==============================================================================\n",
      "\n",
      "Notes:\n",
      "[1] Standard Errors assume that the covariance matrix of the errors is correctly specified.\n",
      "[2] The condition number is large, 8.38e+03. This might indicate that there are\n",
      "strong multicollinearity or other numerical problems.\n",
      "R-squared: 0.77\n",
      "VIF VALUE: 1.0097\n"
     ]
    }
   ],
   "source": [
    "#Third Model\n",
    "model = smf.ols('Price ~ Age + CC', data=df_dummies).fit()\n",
    "print(model.summary())\n",
    "print(\"R-squared:\", model.rsquared.round(2))\n",
    "model_vif = smf.ols('Age ~ CC', data=df_dummies).fit()\n",
    "r2_vif = model_vif.rsquared\n",
    "VIF = 1 / (1 - r2_vif)\n",
    "print(\"VIF VALUE:\", VIF.round(4))"
   ]
  },
  {
   "cell_type": "code",
   "execution_count": 6,
   "id": "3e6a0eff-c18a-4aaf-9c4a-86c2334c8913",
   "metadata": {},
   "outputs": [
    {
     "name": "stdout",
     "output_type": "stream",
     "text": [
      "                            OLS Regression Results                            \n",
      "==============================================================================\n",
      "Dep. Variable:                  Price   R-squared:                       0.805\n",
      "Model:                            OLS   Adj. R-squared:                  0.805\n",
      "Method:                 Least Squares   F-statistic:                     2959.\n",
      "Date:                Mon, 16 Sep 2024   Prob (F-statistic):               0.00\n",
      "Time:                        22:37:33   Log-Likelihood:                -12633.\n",
      "No. Observations:                1436   AIC:                         2.527e+04\n",
      "Df Residuals:                    1433   BIC:                         2.529e+04\n",
      "Df Model:                           2                                         \n",
      "Covariance Type:            nonrobust                                         \n",
      "==============================================================================\n",
      "                 coef    std err          t      P>|t|      [0.025      0.975]\n",
      "------------------------------------------------------------------------------\n",
      "Intercept   3149.7074   1052.897      2.991      0.003    1084.324    5215.091\n",
      "Age         -151.0391      2.577    -58.610      0.000    -156.094    -145.984\n",
      "Weight        14.9482      0.911     16.417      0.000      13.162      16.734\n",
      "==============================================================================\n",
      "Omnibus:                      150.983   Durbin-Watson:                   1.234\n",
      "Prob(Omnibus):                  0.000   Jarque-Bera (JB):              949.444\n",
      "Skew:                          -0.249   Prob(JB):                    6.77e-207\n",
      "Kurtosis:                       6.952   Cond. No.                     2.68e+04\n",
      "==============================================================================\n",
      "\n",
      "Notes:\n",
      "[1] Standard Errors assume that the covariance matrix of the errors is correctly specified.\n",
      "[2] The condition number is large, 2.68e+04. This might indicate that there are\n",
      "strong multicollinearity or other numerical problems.\n",
      "R-squared: 0.81\n",
      "VIF VALUE: 1.2839\n"
     ]
    }
   ],
   "source": [
    "#Fourth Model\n",
    "model = smf.ols('Price ~ Age + Weight', data=df_dummies).fit()\n",
    "print(model.summary())\n",
    "print(\"R-squared:\", model.rsquared.round(2))\n",
    "model_vif = smf.ols('Age ~ Weight', data=df_dummies).fit()\n",
    "r2_vif = model_vif.rsquared\n",
    "VIF = 1 / (1 - r2_vif)\n",
    "print(\"VIF VALUE:\", VIF.round(4))"
   ]
  },
  {
   "cell_type": "code",
   "execution_count": 7,
   "id": "298006da-dd9c-4b6c-a205-01cce5f75d19",
   "metadata": {},
   "outputs": [
    {
     "name": "stdout",
     "output_type": "stream",
     "text": [
      "                            OLS Regression Results                            \n",
      "==============================================================================\n",
      "Dep. Variable:                  Price   R-squared:                       0.112\n",
      "Model:                            OLS   Adj. R-squared:                  0.111\n",
      "Method:                 Least Squares   F-statistic:                     90.81\n",
      "Date:                Mon, 16 Sep 2024   Prob (F-statistic):           7.39e-38\n",
      "Time:                        22:37:33   Log-Likelihood:                -13721.\n",
      "No. Observations:                1436   AIC:                         2.745e+04\n",
      "Df Residuals:                    1433   BIC:                         2.746e+04\n",
      "Df Model:                           2                                         \n",
      "Covariance Type:            nonrobust                                         \n",
      "==============================================================================\n",
      "                 coef    std err          t      P>|t|      [0.025      0.975]\n",
      "------------------------------------------------------------------------------\n",
      "Intercept   1538.7581    693.202      2.220      0.027     178.958    2898.558\n",
      "HP            75.2596      6.029     12.483      0.000      63.433      87.086\n",
      "CC             0.9849      0.213      4.628      0.000       0.567       1.402\n",
      "==============================================================================\n",
      "Omnibus:                      431.110   Durbin-Watson:                   0.350\n",
      "Prob(Omnibus):                  0.000   Jarque-Bera (JB):             1218.148\n",
      "Skew:                           1.545   Prob(JB):                    3.04e-265\n",
      "Kurtosis:                       6.288   Cond. No.                     1.26e+04\n",
      "==============================================================================\n",
      "\n",
      "Notes:\n",
      "[1] Standard Errors assume that the covariance matrix of the errors is correctly specified.\n",
      "[2] The condition number is large, 1.26e+04. This might indicate that there are\n",
      "strong multicollinearity or other numerical problems.\n",
      "R-squared: 0.11\n",
      "VIF VALUE: 1.0013\n"
     ]
    }
   ],
   "source": [
    "#Fifth Model\n",
    "model = smf.ols('Price ~ HP + CC', data=df_dummies).fit()\n",
    "print(model.summary())\n",
    "print(\"R-squared:\", model.rsquared.round(2))\n",
    "model_vif = smf.ols('HP ~ CC', data=df_dummies).fit()\n",
    "r2_vif = model_vif.rsquared\n",
    "VIF = 1 / (1 - r2_vif)\n",
    "print(\"VIF VALUE:\", VIF.round(4))"
   ]
  },
  {
   "cell_type": "code",
   "execution_count": 8,
   "id": "01311f0c-f769-4dc4-af67-58bb8ab7eb0a",
   "metadata": {},
   "outputs": [
    {
     "name": "stdout",
     "output_type": "stream",
     "text": [
      "                            OLS Regression Results                            \n",
      "==============================================================================\n",
      "Dep. Variable:                  Price   R-squared:                       0.644\n",
      "Model:                            OLS   Adj. R-squared:                  0.644\n",
      "Method:                 Least Squares   F-statistic:                     1297.\n",
      "Date:                Mon, 16 Sep 2024   Prob (F-statistic):          2.62e-322\n",
      "Time:                        22:37:33   Log-Likelihood:                -13065.\n",
      "No. Observations:                1436   AIC:                         2.614e+04\n",
      "Df Residuals:                    1433   BIC:                         2.615e+04\n",
      "Df Model:                           2                                         \n",
      "Covariance Type:            nonrobust                                         \n",
      "==============================================================================\n",
      "                 coef    std err          t      P>|t|      [0.025      0.975]\n",
      "------------------------------------------------------------------------------\n",
      "Intercept  -2.737e+04   1173.812    -23.321      0.000   -2.97e+04   -2.51e+04\n",
      "KM            -0.0536      0.002    -35.132      0.000      -0.057      -0.051\n",
      "Weight        38.9532      1.086     35.866      0.000      36.823      41.084\n",
      "==============================================================================\n",
      "Omnibus:                      377.313   Durbin-Watson:                   0.962\n",
      "Prob(Omnibus):                  0.000   Jarque-Bera (JB):             4927.218\n",
      "Skew:                          -0.843   Prob(JB):                         0.00\n",
      "Kurtosis:                      11.916   Cond. No.                     1.61e+06\n",
      "==============================================================================\n",
      "\n",
      "Notes:\n",
      "[1] Standard Errors assume that the covariance matrix of the errors is correctly specified.\n",
      "[2] The condition number is large, 1.61e+06. This might indicate that there are\n",
      "strong multicollinearity or other numerical problems.\n",
      "R-squared: 0.64\n",
      "VIF VALUE: 1.0008\n"
     ]
    }
   ],
   "source": [
    "#Sixth Model\n",
    "model = smf.ols('Price ~ KM + Weight', data=df_dummies).fit()\n",
    "print(model.summary())\n",
    "print(\"R-squared:\", model.rsquared.round(2))\n",
    "model_vif = smf.ols('KM ~ Weight', data=df_dummies).fit()\n",
    "r2_vif = model_vif.rsquared\n",
    "VIF = 1 / (1 - r2_vif)\n",
    "print(\"VIF VALUE:\", VIF.round(4))"
   ]
  },
  {
   "cell_type": "code",
   "execution_count": 10,
   "id": "1921b0f6-3e1c-4d86-90a0-1ad7b194dc23",
   "metadata": {},
   "outputs": [
    {
     "name": "stdout",
     "output_type": "stream",
     "text": [
      "                            OLS Regression Results                            \n",
      "==============================================================================\n",
      "Dep. Variable:                  Price   R-squared:                       0.112\n",
      "Model:                            OLS   Adj. R-squared:                  0.111\n",
      "Method:                 Least Squares   F-statistic:                     90.81\n",
      "Date:                Mon, 23 Sep 2024   Prob (F-statistic):           7.39e-38\n",
      "Time:                        12:24:53   Log-Likelihood:                -13721.\n",
      "No. Observations:                1436   AIC:                         2.745e+04\n",
      "Df Residuals:                    1433   BIC:                         2.746e+04\n",
      "Df Model:                           2                                         \n",
      "Covariance Type:            nonrobust                                         \n",
      "==============================================================================\n",
      "                 coef    std err          t      P>|t|      [0.025      0.975]\n",
      "------------------------------------------------------------------------------\n",
      "Intercept   1538.7581    693.202      2.220      0.027     178.958    2898.558\n",
      "CC             0.9849      0.213      4.628      0.000       0.567       1.402\n",
      "HP            75.2596      6.029     12.483      0.000      63.433      87.086\n",
      "==============================================================================\n",
      "Omnibus:                      431.110   Durbin-Watson:                   0.350\n",
      "Prob(Omnibus):                  0.000   Jarque-Bera (JB):             1218.148\n",
      "Skew:                           1.545   Prob(JB):                    3.04e-265\n",
      "Kurtosis:                       6.288   Cond. No.                     1.26e+04\n",
      "==============================================================================\n",
      "\n",
      "Notes:\n",
      "[1] Standard Errors assume that the covariance matrix of the errors is correctly specified.\n",
      "[2] The condition number is large, 1.26e+04. This might indicate that there are\n",
      "strong multicollinearity or other numerical problems.\n",
      "R-squared: 0.11\n",
      "VIF VALUE: 1.0013\n"
     ]
    }
   ],
   "source": [
    "#Seventh Model\n",
    "model = smf.ols('Price ~ CC +HP', data=df_dummies).fit()\n",
    "print(model.summary())\n",
    "print(\"R-squared:\", model.rsquared.round(2))\n",
    "model_vif = smf.ols('CC ~ HP', data=df_dummies).fit()\n",
    "r2_vif = model_vif.rsquared\n",
    "VIF = 1 / (1 - r2_vif)\n",
    "print(\"VIF VALUE:\", VIF.round(4))"
   ]
  },
  {
   "cell_type": "code",
   "execution_count": 9,
   "id": "27a52ef6-b200-430e-bf97-b25b51112389",
   "metadata": {},
   "outputs": [
    {
     "data": {
      "text/plain": [
       "Text(0.5, 1.0, 'Normal Q-Q plot of Residuals')"
      ]
     },
     "execution_count": 9,
     "metadata": {},
     "output_type": "execute_result"
    },
    {
     "data": {
      "image/png": "[encoded data removed]",
      "text/plain": [
       "<Figure size 640x480 with 1 Axes>"
      ]
     },
     "metadata": {},
     "output_type": "display_data"
    }
   ],
   "source": [
    "import matplotlib.pyplot as plt\n",
    "import statsmodels.api as sm\n",
    "qqplot=sm.qqplot(model.resid,line='q')#it measures how far off your model's predictions are from the actual data.\n",
    "plt.title(\"Normal Q-Q plot of Residuals\")\n",
    "#he Q-Q (Quantile-Quantile) plot is used to check if the residuals of the model are normally distributed."
   ]
  },
  {
   "cell_type": "code",
   "execution_count": 11,
   "id": "4ee8c153-3a32-4862-8e50-bfe721f1e7e6",
   "metadata": {},
   "outputs": [
    {
     "data": {
      "text/plain": [
       "array([5.45178902e-04, 6.33175337e-04, 7.08310469e-04, ...,\n",
       "       3.05853115e-05, 2.03485261e-04, 5.19581709e-04])"
      ]
     },
     "execution_count": 11,
     "metadata": {},
     "output_type": "execute_result"
    }
   ],
   "source": [
    "(cooks,pvalue)=model.get_influence().cooks_distance\n",
    "cooks"
   ]
  },
  {
   "cell_type": "code",
   "execution_count": 13,
   "id": "04a655d7-8959-475a-bd7d-d6cd2b4064c7",
   "metadata": {},
   "outputs": [
    {
     "data": {
      "text/plain": [
       "Text(0, 0.5, 'Cooks')"
      ]
     },
     "execution_count": 13,
     "metadata": {},
     "output_type": "execute_result"
    },
    {
     "data": {
      "image/png": "[encoded data removed]",
      "text/plain": [
       "<Figure size 640x480 with 1 Axes>"
      ]
     },
     "metadata": {},
     "output_type": "display_data"
    }
   ],
   "source": [
    "import matplotlib.pyplot as plt\n",
    "import numpy as np\n",
    "fig=plt.subplots(figure=(20,7))\n",
    "plt.stem(np.arange(len(df_dummies)),np.round(cooks,3))#the x-axis represents the row index of the observations, and the y-axis represents the rounded Cook's Distance values.\n",
    "plt.xlabel('Row index')\n",
    "plt.ylabel('Cooks')"
   ]
  },
  {
   "cell_type": "code",
   "execution_count": 15,
   "id": "48565df8-e7d1-4eff-abf0-3b632f98c463",
   "metadata": {},
   "outputs": [
    {
     "name": "stdout",
     "output_type": "stream",
     "text": [
      "Influential Points are: [ 14  15  16  49  53  80 109 110 111 141]\n"
     ]
    }
   ],
   "source": [
    "k = X.shape[1]  # number of features\n",
    "n = df_dummies.shape[0]  # number of observations\n",
    "leverage_cutoff = 3 * ((k + 1) / n)\n",
    "influential_points = np.where(cooks > leverage_cutoff)[0]\n",
    "print(\"Influential Points are:\", influential_points)\n",
    "# Optionally, drop influential points\n",
    "df_dummies_cleaned = df_dummies.drop(index=influential_points)"
   ]
  },
  {
   "cell_type": "code",
   "execution_count": 17,
   "id": "7317be65-8242-49ad-a64a-16518fa709b6",
   "metadata": {},
   "outputs": [
    {
     "data": {
      "text/plain": [
       "(1436, 6)"
      ]
     },
     "execution_count": 17,
     "metadata": {},
     "output_type": "execute_result"
    }
   ],
   "source": [
    "df_dummies.shape"
   ]
  },
  {
   "cell_type": "code",
   "execution_count": 21,
   "id": "c93ca0a7-d6a4-4da1-8f68-82687bd334cd",
   "metadata": {},
   "outputs": [
    {
     "name": "stdout",
     "output_type": "stream",
     "text": [
      "                            OLS Regression Results                            \n",
      "==============================================================================\n",
      "Dep. Variable:                  Price   R-squared:                       0.801\n",
      "Model:                            OLS   Adj. R-squared:                  0.801\n",
      "Method:                 Least Squares   F-statistic:                     2880.\n",
      "Date:                Wed, 18 Sep 2024   Prob (F-statistic):               0.00\n",
      "Time:                        08:59:03   Log-Likelihood:                -12648.\n",
      "No. Observations:                1436   AIC:                         2.530e+04\n",
      "Df Residuals:                    1433   BIC:                         2.532e+04\n",
      "Df Model:                           2                                         \n",
      "Covariance Type:            nonrobust                                         \n",
      "==============================================================================\n",
      "                 coef    std err          t      P>|t|      [0.025      0.975]\n",
      "------------------------------------------------------------------------------\n",
      "Intercept   1.551e+04    341.793     45.367      0.000    1.48e+04    1.62e+04\n",
      "Age         -165.3701      2.328    -71.038      0.000    -169.937    -160.804\n",
      "HP            44.1027      2.890     15.259      0.000      38.433      49.772\n",
      "==============================================================================\n",
      "Omnibus:                      361.527   Durbin-Watson:                   1.335\n",
      "Prob(Omnibus):                  0.000   Jarque-Bera (JB):             2605.922\n",
      "Skew:                           0.975   Prob(JB):                         0.00\n",
      "Kurtosis:                       9.305   Cond. No.                         934.\n",
      "==============================================================================\n",
      "\n",
      "Notes:\n",
      "[1] Standard Errors assume that the covariance matrix of the errors is correctly specified.\n",
      "R-squared: 0.8\n",
      "Mean Squared Error (MSE): 2618875.69\n",
      "Root Mean Squared Error (RMSE): 1618.294\n"
     ]
    }
   ],
   "source": [
    "model = smf.ols(\"Price ~Age+HP\", data=df_dummies).fit()\n",
    "print(model.summary())\n",
    "rsquared = model.rsquared\n",
    "print(\"R-squared:\", round(rsquared, 2))\n",
    "mse = np.mean(model.resid**2)\n",
    "print(\"Mean Squared Error (MSE):\", mse.round(2))\n",
    "rmse = np.sqrt(mse)\n",
    "print(\"Root Mean Squared Error (RMSE):\", rmse.round(3))"
   ]
  },
  {
   "cell_type": "code",
   "execution_count": 23,
   "id": "73d3f781-21b8-4e77-95b6-d42762c4624c",
   "metadata": {},
   "outputs": [
    {
     "name": "stdout",
     "output_type": "stream",
     "text": [
      "Ridge Regression MSE: 1946946.08\n",
      "Ridge Regression RMSE: 1395.33\n"
     ]
    }
   ],
   "source": [
    "ridge = Ridge(alpha=0.5)\n",
    "ridge.fit(X_train, Y_train)\n",
    "Ypred_ridge = ridge.predict(X_test)\n",
    "# Evaluating Ridge Regression\n",
    "mse_ridge = mean_squared_error(Y_test, Ypred_ridge)\n",
    "rmse_ridge = np.sqrt(mse_ridge)\n",
    "print(\"Ridge Regression MSE:\", mse_ridge.round(2))\n",
    "print(\"Ridge Regression RMSE:\", rmse_ridge.round(2))"
   ]
  },
  {
   "cell_type": "code",
   "execution_count": 25,
   "id": "cae1ac18-595f-4723-80eb-063eb6444287",
   "metadata": {},
   "outputs": [
    {
     "name": "stdout",
     "output_type": "stream",
     "text": [
      "Lasso Regression MSE: 1947022.57\n",
      "Lasso Regression RMSE: 1395.36\n"
     ]
    }
   ],
   "source": [
    "# Lasso Regression\n",
    "LS = Lasso(alpha=5.0)\n",
    "LS.fit(X_train, Y_train)\n",
    "Ypred_lasso = LS.predict(X_test)\n",
    "# Evaluating Lasso Regression\n",
    "LS_mse = mean_squared_error(Y_test, Ypred_lasso)\n",
    "LS_rmse = np.sqrt(LS_mse)\n",
    "print(\"Lasso Regression MSE:\", LS_mse.round(2))\n",
    "print(\"Lasso Regression RMSE:\", LS_rmse.round(2))"
   ]
  },
  {
   "cell_type": "code",
   "execution_count": 27,
   "id": "c324ac17-ba80-44c8-8032-0520d3da0317",
   "metadata": {},
   "outputs": [
    {
     "name": "stdout",
     "output_type": "stream",
     "text": [
      "        LinearRegression Coefficients  Ridge Coefficients  Lasso Coefficients\n",
      "Age                       -120.831152         -120.830831         -120.807164\n",
      "KM                          -0.019491           -0.019491           -0.019501\n",
      "HP                          29.449715           29.449619           29.422636\n",
      "CC                          -0.062775           -0.062774           -0.062655\n",
      "Weight                      18.848810           18.848863           18.851009\n"
     ]
    }
   ],
   "source": [
    "LR_df = pd.DataFrame(LR.coef_, index=X.columns, columns=['LinearRegression Coefficients'])\n",
    "ridge_df = pd.DataFrame(ridge.coef_, index=X.columns, columns=['Ridge Coefficients'])\n",
    "LS_df = pd.DataFrame(LS.coef_, index=X.columns, columns=['Lasso Coefficients'])\n",
    "comparison_df = pd.concat([LR_df, ridge_df, LS_df], axis=1)\n",
    "print(comparison_df)"
   ]
  },
  {
   "cell_type": "markdown",
   "id": "7c9963ed-7a40-4573-9985-ff0ccd2e6375",
   "metadata": {},
   "source": [
    "Here i focused on the columns Age, KM, HP, CC, and Weight for analysis and modeling because other columns are demonstrated a strong correlation with the target variable (Price). Given their high correlation values, I prioritized these attributes to enhance model performance and reduce the complexity of the model by excluding features with lower relevance to the target variable."
   ]
  },
  {
   "cell_type": "markdown",
   "id": "7c702fe0-bc8f-4954-9702-23b77a82a9d0",
   "metadata": {},
   "source": [
    "Conclude:"
   ]
  },
  {
   "cell_type": "markdown",
   "id": "3b4f2eef-c1cf-41cd-a763-710cc837eb65",
   "metadata": {},
   "source": [
    "Lasso Regression-has the lowest error (MSE and RMSE), making it the best-performing model for this problem.\n",
    "Ridge Regression-we know that it performs better than simple linear regression by reducing the error through regularization.\n",
    "linear Regression- it explains a large portion of the variance (R-squared = 0.8), but it has higher errors compared to the regularized models."
   ]
  },
  {
   "cell_type": "markdown",
   "id": "34df7b5c-bffb-43a7-804f-dc93e73b57cb",
   "metadata": {},
   "source": [
    "Interview Questions:"
   ]
  },
  {
   "cell_type": "markdown",
   "id": "abbf69d6-cc7e-4bf2-b340-8f0dbc886371",
   "metadata": {},
   "source": [
    "1.Normalization and standardization are two common techniques used in data preprocessing to transform data into a standard format, making it easier to analyze and model."
   ]
  },
  {
   "cell_type": "markdown",
   "id": "be721474-f137-4a69-8822-a7bbd142b075",
   "metadata": {},
   "source": [
    "Scales data to a specific range, typically range from 0 to 1."
   ]
  },
  {
   "cell_type": "markdown",
   "id": "ec36b49b-d9ef-42eb-87ea-648707a055f8",
   "metadata": {},
   "source": [
    "Centers data around a mean of 0 and scales it to have a standard deviation of 1."
   ]
  },
  {
   "cell_type": "markdown",
   "id": "42834329-6b5f-41b3-a2af-2474f33ed389",
   "metadata": {},
   "source": [
    "2.Here we used variance inflation factor,for detecting the measure of multicollinerity in a MLR Model.Multicollinerity occurs when two or more independent variables in a model are highly correlated,which make it diffult to determine the individual effect of each varibale on dependent variable."
   ]
  },
  {
   "cell_type": "markdown",
   "id": "98caf8db-1f7e-47a9-9c76-d7d43e177cfb",
   "metadata": {},
   "source": [
    "Interpretation:"
   ]
  },
  {
   "cell_type": "markdown",
   "id": "1a15b590-9881-41e7-955b-93b36f3e60c6",
   "metadata": {},
   "source": [
    "     VIF=1:No correlation b/w the independent variable and other variable"
   ]
  },
  {
   "cell_type": "markdown",
   "id": "15a24a24-f5c2-4c61-ab84-962fa9700a14",
   "metadata": {},
   "source": [
    "     1<VIF<5:Moderate Correlation,but accepted"
   ]
  },
  {
   "cell_type": "markdown",
   "id": "66607b82-b41f-4dac-b5b8-fd1c76856c0f",
   "metadata": {},
   "source": [
    "     VIF>5:High Correlation,which may indicate problamatic multicollinearity\n",
    "     VIF>10:Strong Multicollinerity"
   ]
  },
  {
   "cell_type": "code",
   "execution_count": null,
   "id": "afad53af-067c-47e1-bfa8-7326b8281662",
   "metadata": {},
   "outputs": [],
   "source": []
  }
 ],
 "metadata": {
  "kernelspec": {
   "display_name": "Python 3 (ipykernel)",
   "language": "python",
   "name": "python3"
  },
  "language_info": {
   "codemirror_mode": {
    "name": "ipython",
    "version": 3
   },
   "file_extension": ".py",
   "mimetype": "text/x-python",
   "name": "python",
   "nbconvert_exporter": "python",
   "pygments_lexer": "ipython3",
   "version": "3.11.7"
  }
 },
 "nbformat": 4,
 "nbformat_minor": 5
}
